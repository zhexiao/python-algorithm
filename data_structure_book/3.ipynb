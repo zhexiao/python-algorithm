{
 "cells": [
  {
   "cell_type": "code",
   "execution_count": 5,
   "metadata": {},
   "outputs": [
    {
     "data": {
      "text/plain": [
       "4"
      ]
     },
     "execution_count": 5,
     "metadata": {},
     "output_type": "execute_result"
    }
   ],
   "source": [
    "\"\"\"\n",
    "搜索最小值\n",
    "\"\"\"\n",
    "def find_min(data):\n",
    "    min_idx = 0\n",
    "    current_idx = 1\n",
    "    while current_idx < len(data):\n",
    "        if data[min_idx] > data[current_idx]:\n",
    "            min_idx = current_idx\n",
    "        current_idx += 1\n",
    "    return min_idx\n",
    "\n",
    "data = [2, 10, 5, 12, 1, 6, 3]\n",
    "find_min(data)"
   ]
  },
  {
   "cell_type": "code",
   "execution_count": 11,
   "metadata": {},
   "outputs": [
    {
     "data": {
      "text/plain": [
       "3"
      ]
     },
     "execution_count": 11,
     "metadata": {},
     "output_type": "execute_result"
    }
   ],
   "source": [
    "\"\"\"\n",
    "顺序搜索或线性搜索（Python中in使用的方法）\n",
    "\"\"\"\n",
    "def find_target(target, data):\n",
    "    idx = 0\n",
    "    while idx < len(data):\n",
    "        if data[idx] == target:\n",
    "            return idx\n",
    "        idx += 1\n",
    "    return -1\n",
    "\n",
    "target = 12\n",
    "data = [1, 2, 50, 12, 12, 2, 5]\n",
    "find_target(target, data)"
   ]
  },
  {
   "cell_type": "code",
   "execution_count": 27,
   "metadata": {},
   "outputs": [
    {
     "data": {
      "text/plain": [
       "7"
      ]
     },
     "execution_count": 27,
     "metadata": {},
     "output_type": "execute_result"
    }
   ],
   "source": [
    "\"\"\"\n",
    "二叉搜索：\n",
    "\n",
    "搜索的数据必须是已经排序过的数据\n",
    "\"\"\"\n",
    "def binary_search(target, sorted_data):\n",
    "    left_idx = 0\n",
    "    right_idx = len(sorted_data) - 1\n",
    "    while left_idx <= right_idx:\n",
    "        mid_idx = round((left_idx + right_idx) / 2) \n",
    "        if target == sorted_data[mid_idx]:\n",
    "            return mid_idx\n",
    "        elif target < sorted_data[mid_idx]:\n",
    "            right_idx = mid_idx - 1\n",
    "        else:\n",
    "            left_idx = mid_idx + 1\n",
    "    return -1\n",
    "\n",
    "target = 12\n",
    "sorted_data = [1, 2, 5, 6, 7, 10, 11, 12, 15, 20, 50]\n",
    "binary_search(target, sorted_data)"
   ]
  },
  {
   "cell_type": "code",
   "execution_count": 11,
   "metadata": {},
   "outputs": [
    {
     "name": "stdout",
     "output_type": "stream",
     "text": [
      "[2, 5, 6, 10, 12, 20]\n"
     ]
    }
   ],
   "source": [
    "\"\"\"\n",
    "选择排序:\n",
    "\n",
    "1. 搜索整个列表，为第一个位置（即i=0）找到整个列表中的最小值，如果最小值的位置不等于第一个位置，则交换位置的值。\n",
    "2. 继续搜索第二个位置的最小值，同理直到搜索到第n-1个位置的最小值（这里到n-1停止是因为我们要与最后一个位置n进行比较）\n",
    "\"\"\"\n",
    "\n",
    "def selection_sort(data):\n",
    "    i = 0\n",
    "    while i < len(data) - 1:\n",
    "        j = i + 1\n",
    "        min_idx = i\n",
    "        \n",
    "        while j < len(data):\n",
    "            if data[j] < data[min_idx]:\n",
    "                min_idx = j\n",
    "            j += 1\n",
    "        \n",
    "        # 如果初始位置索引的值不是最小值，则需要把最小值与i位置的值交换位置\n",
    "        if min_idx != i:\n",
    "            data[i], data[min_idx] = data[min_idx], data[i]\n",
    "        i += 1\n",
    "        \n",
    "        \n",
    "data = [20,5,10,6,2,12]\n",
    "selection_sort(data)\n",
    "print(data)"
   ]
  },
  {
   "cell_type": "code",
   "execution_count": 5,
   "metadata": {},
   "outputs": [
    {
     "name": "stdout",
     "output_type": "stream",
     "text": [
      "[1, 10, 20, 50]\n"
     ]
    }
   ],
   "source": [
    "\"\"\"\n",
    "冒泡排序：\n",
    "\n",
    "1. 从列表的开头比较一对（i, i+1）数据项的值，如果i的值大于i+1的值，则将i与i+1的值交换位置。\n",
    "2. 内部第一次循环，把最大值放到最后。内部第二次循环，把第二大的值放到倒数第二个位置......`\n",
    "\"\"\"\n",
    "\n",
    "def bubble_sort(data):\n",
    "    n = 0\n",
    "    while n < len(data) - 1:\n",
    "        i = 0\n",
    "        while i < len(data) - 1:\n",
    "            if data[i] > data[i + 1]:\n",
    "                data[i], data[i + 1] = data[i + 1], data[i]\n",
    "            i += 1\n",
    "        n += 1\n",
    "\n",
    "\n",
    "data = [20, 50, 10, 1]\n",
    "bubble_sort(data)\n",
    "print(data)\n"
   ]
  },
  {
   "cell_type": "code",
   "execution_count": 1,
   "metadata": {},
   "outputs": [
    {
     "name": "stdout",
     "output_type": "stream",
     "text": [
      "[1, 2, 3, 5, 6, 8, 10]\n"
     ]
    }
   ],
   "source": [
    "\"\"\"\n",
    "插入排序：将一个数据插入到已经排好序的有序数据\n",
    "\n",
    "1. 定义一个i（1<i<n），找到i前面的j个列表（j=i-1）。\n",
    "2. 用当前的i的值（假设为cur_val）与前面的j个列表的值进行比较。\n",
    "3. 如果cur_val小于j的值，则把这个j值的位置向前移动一位（即为j+1）的值。\n",
    "4. 否则如果cur_val大于j的值，则跳出内部循环，然后把当前的值放到j的前面（即作为j+1的值）\n",
    "\"\"\"\n",
    "\n",
    "def insertion_sort(data):\n",
    "    i = 1\n",
    "    while i < len(data):\n",
    "        j = i - 1\n",
    "        current_item = data[i]\n",
    "        \n",
    "        while j >= 0:\n",
    "            if current_item < data[j]:\n",
    "                data[j+1] = data[j]\n",
    "            else:\n",
    "                break\n",
    "            j -= 1\n",
    "            \n",
    "        data[j+1] = current_item\n",
    "        i += 1\n",
    "\n",
    "data = [10, 5, 2, 6, 8, 1, 3]\n",
    "insertion_sort(data)\n",
    "print(data)"
   ]
  },
  {
   "cell_type": "code",
   "execution_count": 2,
   "metadata": {},
   "outputs": [
    {
     "name": "stdout",
     "output_type": "stream",
     "text": [
      "[4, 5, 10, 12, 20]\n"
     ]
    }
   ],
   "source": [
    "\"\"\"\n",
    "快速排序：是一种效率很高的排序算法，使用了分而治之（D&C)。\n",
    "\n",
    "1. 从数组中选择一个元素，这个元素被称为基准值（pivot）。\n",
    "2. 找出比基准值小的元素以及比基准值大的元素，这被称为分区（partitioning）。\n",
    "3. 对这两个分区的子数组递归重新排序。\n",
    "\"\"\"\n",
    "def quick_sort(data):\n",
    "    if len(data) <= 1:\n",
    "        return data\n",
    "\n",
    "    # 拿到中间值并把中间值从数组中去掉\n",
    "    mid_position = len(data)//2\n",
    "    mid_val = data[mid_position]\n",
    "    data.pop(mid_position)\n",
    "\n",
    "    # 定义所有小于中间值的数组和所有大于中间值的数组\n",
    "    left_arr = []\n",
    "    right_arr = []\n",
    "\n",
    "    for v in data:\n",
    "        if v < mid_val:\n",
    "            left_arr.append(v)\n",
    "        else:\n",
    "            right_arr.append(v)\n",
    "\n",
    "    return quick_sort(left_arr) + [mid_val] + quick_sort(right_arr)\n",
    "\n",
    "data = [20, 5, 10, 4, 12]\n",
    "sort_data = quick_sort(data)\n",
    "print(sort_data)"
   ]
  }
 ],
 "metadata": {
  "kernelspec": {
   "display_name": "Python 3",
   "language": "python",
   "name": "python3"
  },
  "language_info": {
   "codemirror_mode": {
    "name": "ipython",
    "version": 3
   },
   "file_extension": ".py",
   "mimetype": "text/x-python",
   "name": "python",
   "nbconvert_exporter": "python",
   "pygments_lexer": "ipython3",
   "version": "3.5.2"
  }
 },
 "nbformat": 4,
 "nbformat_minor": 2
}
